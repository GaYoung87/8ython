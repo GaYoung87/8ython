{
 "cells": [
  {
   "cell_type": "markdown",
   "metadata": {},
   "source": [
    "# OOP advanced"
   ]
  },
  {
   "cell_type": "markdown",
   "metadata": {},
   "source": [
    "## 클래스 변수와 인스턴스 변수\n",
    "\n",
    "### 클래스 변수\n",
    "* 클래스의 속성입니다.\n",
    "* 클래스 선언 블록 최상단에 위치합니다. (변수가 바로 그 다음에 나온다)\n",
    "* 모든 인스턴스가 공유합니다.\n",
    "* `Class.class_variable` 과 같이 접근/할당합니다.\n",
    "\n",
    "```python\n",
    "class TestClass:\n",
    "    \n",
    "    class_variable = '클래스변수'  # 클래스, 인스턴스 모두 공유\n",
    "    ...\n",
    "\n",
    "TestClass.class_variable  # '클래스변수'\n",
    "TestClass.class_variable = 'class variable'\n",
    "TestClass.class_variable  # 'class variable'\n",
    "\n",
    "tc = TestClass()   # 인스턴스 생성\n",
    "tc.class_variable  \n",
    "# 인스턴스 => 클래스 => 전역 순서로 이름공간을 탐색하기 때문에, 접근하게 됩니다.\n",
    "```"
   ]
  },
  {
   "cell_type": "markdown",
   "metadata": {},
   "source": [
    "### 인스턴스 변수\n",
    "* 인스턴스의 속성입니다.\n",
    "* 각 인스턴스들의 고유한 변수입니다.\n",
    "* 메서드 정의에서 `self.instance_variable` 로 접근/할당합니다.\n",
    "* 인스턴스가 생성된 이후 `instance.instance_variable` 로 접근/할당합니다.\n",
    "\n",
    "\n",
    "```python\n",
    "class TestClass:\n",
    "    \n",
    "    def __init__(self, arg1, arg2):\n",
    "        self.instance_var1 = arg1    # 인스턴스 변수\n",
    "        self.instance_var2 = arg2    # instance변수에 넣어줌\n",
    "\n",
    "    def status(self):\n",
    "        return self.instance_var1, self.instance_var2     # 인스턴스 변수 return 해줌\n",
    "\n",
    "    \n",
    "test_instance = TestClass(1, 2)\n",
    "test_instance.instance_var1  # 1\n",
    "test_instance.instance_var2  # 2\n",
    "test_instance.status()  # (1, 2)\n",
    "```"
   ]
  },
  {
   "cell_type": "code",
   "execution_count": null,
   "metadata": {},
   "outputs": [],
   "source": [
    "# 확인해봅시다.\n",
    "\n",
    "class Person:\n",
    "    hair = True  # 클래스 변수 -> 인스턴스 값은 모두 클래스변수 공유\n",
    "    \n",
    "    def __init__(self, name, gender):\n",
    "        self.name = name\n",
    "        self.gender = gender\n",
    "        \n",
    "    def status(self):\n",
    "        print(self.name)\n",
    "        print(self.gender)\n",
    "        "
   ]
  },
  {
   "cell_type": "code",
   "execution_count": null,
   "metadata": {},
   "outputs": [],
   "source": [
    "# 클래스 변수에 접근, 재할당 해봅시다."
   ]
  },
  {
   "cell_type": "code",
   "execution_count": null,
   "metadata": {},
   "outputs": [],
   "source": [
    "print(Person.hair)"
   ]
  },
  {
   "cell_type": "code",
   "execution_count": null,
   "metadata": {},
   "outputs": [],
   "source": [
    "Person.hair = False\n",
    "print(Person.hair) "
   ]
  },
  {
   "cell_type": "code",
   "execution_count": null,
   "metadata": {},
   "outputs": [],
   "source": [
    "# 인스턴스 변수를 생성하고, 확인해봅시다."
   ]
  },
  {
   "cell_type": "code",
   "execution_count": null,
   "metadata": {},
   "outputs": [],
   "source": [
    "jason = Person('jason', 'man')\n",
    "print(jason.name, jason.gender)  # instance variable"
   ]
  },
  {
   "cell_type": "code",
   "execution_count": null,
   "metadata": {},
   "outputs": [],
   "source": [
    "# 인스턴스 변수를 재할당 해봅시다."
   ]
  },
  {
   "cell_type": "code",
   "execution_count": null,
   "metadata": {},
   "outputs": [],
   "source": [
    "jason.name = 'json'\n",
    "jason.gender = 'real man'\n",
    "print(jason.name, jason.gender)  # 재할당하면 재할당된 값으로 나옴"
   ]
  },
  {
   "cell_type": "markdown",
   "metadata": {},
   "source": [
    "## 인스턴스 메서드 / 클래스 메서드 / 스태틱(정적) 메서드 \n",
    "\n",
    "### 인스턴스 메서드\n",
    "* 인스턴스가 사용할 메서드 입니다.\n",
    "* **정의 위에 어떠한 데코레이터도 없으면**, 자동으로 인스턴스 메서드가 됩니다.\n",
    "* **첫 번째 인자로 `self` 를 받도록 정의합니다. 이 때, 자동으로 인스턴스 객체가 `self` 가 됩니다.** -> 지금까지 정의한 모든 메소드\n",
    "\n",
    "```python\n",
    "class MyClass:\n",
    "    def instance_method_name(self, arg1, arg2, ...):  # self자리에 아무것도 넣지 않아도, 자동으로 할당됨.\n",
    "        ...\n",
    "\n",
    "my_instance = MyClass()\n",
    "my_instance.instance_method_name(arg1, arg2, ...)  # 자동으로 첫 번째 인자로 인스턴스(my_instance)가 들어갑니다.\n",
    "```"
   ]
  },
  {
   "cell_type": "markdown",
   "metadata": {},
   "source": [
    "### 클래스 메서드\n",
    "* 클래스가 사용할 메서드 입니다.\n",
    "* 정의 위에 `@classmethod` 데코레이터를 사용합니다.\n",
    "* **첫 번째 인자로 클래스(`cls`) 를 받도록 정의합니다. 이 때, 자동으로 클래스 객체가 `cls` 가 됩니다.**\n",
    "\n",
    "```python\n",
    "class MyClass:\n",
    "    @classmethod   # 파이썬 내부 키워드 느낌\n",
    "    def class_method_name(cls, arg1, arg2, ...):  # 아래의 것은 클래스매서드이라고 표시해주는 것.\n",
    "        ...\n",
    "\n",
    "MyClass.class_method_name(.., ..)  # 자동으로 첫 번째 인자로 클래스(MyClass)가 들어갑니다.\n",
    "```"
   ]
  },
  {
   "cell_type": "markdown",
   "metadata": {},
   "source": [
    "### 스태틱(정적) 메서드 - 클래스, 인스턴스와 다른 역할을 한다. (클래스 attribute와, 인스턴스 attribute와 관련 없음!)\n",
    "* 클래스가 사용할 메서드 입니다.(어떠한 attribute과도 관련 없고, 관련 없는 어떠한 일을 할 때 사용)\n",
    "* 정의 위에 `@staticmethod` 데코레이터를 사용합니다.\n",
    "* 묵시적인 첫 번째 인자를 받지 않습니다. 즉, 인자 정의는 자유롭게 합니다. \n",
    "* **어떠한 인자도 자동으로 넘어가지 않습니다.**\n",
    "\n",
    "```python\n",
    "class MyClass:\n",
    "    @staticmethod  # 실행되기 전 후에 어떤 코드가 될 수 있도록 정의할 수 있음! -> 단순히 명시적 표현이 아니라 역할이 있음\n",
    "    def static_method_name(arg1, arg2, ...):   # 일반 메소드로 정의됨\n",
    "        ...\n",
    "\n",
    "MyClass.static_method_name(.., ..)  # 어떠한 인자도 자동으로 넘어가지 않습니다 ex. class가 자동으로 넘어가지 않음\n",
    "```"
   ]
  },
  {
   "cell_type": "code",
   "execution_count": null,
   "metadata": {},
   "outputs": [],
   "source": [
    "# 모든 메서드를 정의해 봅시다."
   ]
  },
  {
   "cell_type": "code",
   "execution_count": null,
   "metadata": {},
   "outputs": [],
   "source": [
    "class MyClass:\n",
    "    def instance_method(self):\n",
    "        return self\n",
    "    \n",
    "    @classmethod\n",
    "    def class_method(cls):\n",
    "        return cls\n",
    "    \n",
    "    @staticmethod\n",
    "    def static_method(arg):  #arg는 파라미터\n",
    "        return arg\n",
    "    \n",
    "my_instance = MyClass()"
   ]
  },
  {
   "cell_type": "code",
   "execution_count": null,
   "metadata": {},
   "outputs": [],
   "source": [
    "# 인스턴스 입장에서 확인해 봅시다."
   ]
  },
  {
   "cell_type": "code",
   "execution_count": null,
   "metadata": {
    "scrolled": true
   },
   "outputs": [],
   "source": [
    "# 인스턴스는 인스턴스 메서드에 접근 가능합니다.\n",
    "print(id(my_instance), id(my_instance.instance_method()))  # id동일 -> 같은 것\n",
    "my_instance == my_instance.instance_method()"
   ]
  },
  {
   "cell_type": "code",
   "execution_count": null,
   "metadata": {},
   "outputs": [],
   "source": [
    "# 인스턴스는 클래스 메서드에 접근 가능합니다.\n",
    "print(id(MyClass), id(my_instance.class_method())) # id동일 -> 같은 것 why? class method가 반환하는 것은 MyClass의 class \n",
    "MyClass == my_instance.class_method()   # instance도  class method에 접근 가능!"
   ]
  },
  {
   "cell_type": "code",
   "execution_count": null,
   "metadata": {},
   "outputs": [],
   "source": [
    "# 인스턴스는 스태틱 메서드에 접근 가능합니다.\n",
    "my_instance.static_method(123)"
   ]
  },
  {
   "cell_type": "markdown",
   "metadata": {},
   "source": [
    "### 정리 1 - 인스턴스와 메서드\n",
    "- 인스턴스는, 3가지 메서드 모두에 접근할 수 있습니다.\n",
    "- 하지만 인스턴스에서 클래스메서드와 스태틱메서드는 호출하지 않아야 합니다. (가능하다. != 사용한다.)\n",
    "- 인스턴스가 할 행동은 모두 인스턴스 메서드로 한정 지어서 설계합니다.\n",
    "---"
   ]
  },
  {
   "cell_type": "code",
   "execution_count": null,
   "metadata": {},
   "outputs": [],
   "source": [
    "# 클래스 입장에서 확인해 봅시다."
   ]
  },
  {
   "cell_type": "code",
   "execution_count": null,
   "metadata": {},
   "outputs": [],
   "source": [
    "print(id(MyClass), id(MyClass.class_method()))\n",
    "MyClass == MyClass.class_method()"
   ]
  },
  {
   "cell_type": "code",
   "execution_count": null,
   "metadata": {},
   "outputs": [],
   "source": [
    "MyClass.static_method(123)  # 인스턴스도 가능했었음"
   ]
  },
  {
   "cell_type": "code",
   "execution_count": null,
   "metadata": {},
   "outputs": [],
   "source": [
    "MyClass.instance_method(my_instance) == my_instance\n",
    "#MyClass.instance_method(my_instance)이렇게 명시적으로 넣어줘야 비교 가능!"
   ]
  },
  {
   "cell_type": "markdown",
   "metadata": {},
   "source": [
    "### 정리 2 - 클래스와 메서드\n",
    "- 클래스는 3가지 메서드 모두에 접근할 수 있습니다.\n",
    "- 하지만 클래스에서 인스턴스 메서드는 호출하지 않습니다. (가능하다. != 사용한다.)\n",
    "- 클래스가 할 행동은 다음 원칙에 따라 설계합니다.\n",
    "    - 클래스 자체(`cls`)와 그 속성에 접근할 필요가 있다면 클래스메서드로 정의합니다.\n",
    "    - 클래스와 클래스 속성에 접근할 필요가 없다면 스태틱메서드로 정의합니다.  \n",
    "---"
   ]
  },
  {
   "cell_type": "markdown",
   "metadata": {},
   "source": [
    "### 인스턴스메서드 / 클래스메서드 / 스태틱메서드 자세히 살펴보기"
   ]
  },
  {
   "cell_type": "code",
   "execution_count": null,
   "metadata": {},
   "outputs": [],
   "source": [
    "# Puppy class를 만들어보겠습니다.\n",
    "# 그리고 bark() 메서드를 통해 짖을 수 있습니다. \n",
    "\n",
    "class Puppy:\n",
    "    def __init__(self, name, breed):\n",
    "        self.name = name\n",
    "        self.breed = breed\n",
    "    \n",
    "    def bark(self):\n",
    "        return '왈왈!'"
   ]
  },
  {
   "cell_type": "code",
   "execution_count": null,
   "metadata": {},
   "outputs": [],
   "source": [
    "# 각각 이름과 종이 다른 인스턴스 3개를 만들어 봅시다.\n",
    "pp1 = Puppy('초코', '푸들')\n",
    "pp2 = Puppy('꽁이', '말티즈')\n",
    "pp3 = Puppy('별이', '시츄')\n",
    "\n",
    "print(pp1.bark(), pp2.bark(), pp3.bark())"
   ]
  },
  {
   "cell_type": "code",
   "execution_count": null,
   "metadata": {},
   "outputs": [],
   "source": [
    "# Puppy class가 짖을 수 있을까요?\n",
    "Puppy.bark()  # Puppy class로부터 짖으라고하려면 Puppy.bark(pp1)해줘야함. -> 어떤 객체가 할 것인지 넘겨줘야함. -> instance는 instance만"
   ]
  },
  {
   "cell_type": "code",
   "execution_count": null,
   "metadata": {},
   "outputs": [],
   "source": [
    "# Puppy class가 짖을 수 있을까요?\n",
    "Puppy.bark(pp1)"
   ]
  },
  {
   "cell_type": "markdown",
   "metadata": {},
   "source": [
    "* 클래스메서드는 다음과 같이 정의됩니다.\n",
    "\n",
    "```python\n",
    "\n",
    "@classmethod\n",
    "def methodname(cls):\n",
    "    codeblock\n",
    "```"
   ]
  },
  {
   "cell_type": "code",
   "execution_count": null,
   "metadata": {},
   "outputs": [],
   "source": [
    "# Doggy 클래스를 정의하고 속성에 접근하는 클래스메서드를 생성해 보겠습니다.\n",
    "\n",
    "class Doggy:\n",
    "    \n",
    "    number_of_dogs = 0\n",
    "    \n",
    "    def __init__(self, name, breed):\n",
    "        self.name = name\n",
    "        self.breed = breed\n",
    "        Doggy.number_of_dogs += 1\n",
    "        \n",
    "    def __del__(self):\n",
    "        Doggy.number_of_dogs -= 1\n",
    "            \n",
    "    def bark(self):\n",
    "        return '왈! 왈!'\n",
    "    \n",
    "    \n",
    "    @classmethod\n",
    "    def get_status(cls):\n",
    "        return f'총 {cls.number_of_dogs}마리의 강아지가 있습니다 :)'"
   ]
  },
  {
   "cell_type": "code",
   "execution_count": null,
   "metadata": {},
   "outputs": [],
   "source": [
    "dg1 = Doggy('초코', '푸들')\n",
    "dg2 = Doggy('꽁이', '말티즈')\n",
    "dg3 = Doggy('별이', '시츄')"
   ]
  },
  {
   "cell_type": "code",
   "execution_count": null,
   "metadata": {},
   "outputs": [],
   "source": [
    "print(dg1.name, dg2.name, dg3.name)"
   ]
  },
  {
   "cell_type": "code",
   "execution_count": null,
   "metadata": {},
   "outputs": [],
   "source": [
    "Doggy.get_status()  # 인스턴스와 직접적인 연관 없음"
   ]
  },
  {
   "cell_type": "markdown",
   "metadata": {},
   "source": [
    "* 스태틱메서드는 다음과 같이 정의됩니다.\n",
    "\n",
    "```python\n",
    "\n",
    "@staticmethod\n",
    "def methodname():\n",
    "    codeblock\n",
    "```"
   ]
  },
  {
   "cell_type": "code",
   "execution_count": null,
   "metadata": {},
   "outputs": [],
   "source": [
    "# Dog 클래스를 정의하고 어떠한 속성에도 접근하지 않는 스태틱메서드를 만들어보겠습니다."
   ]
  },
  {
   "cell_type": "code",
   "execution_count": null,
   "metadata": {},
   "outputs": [],
   "source": [
    "class Dog:\n",
    "    \n",
    "    number_of_dogs = 0\n",
    "    \n",
    "    def __init__(self, name, breed):\n",
    "        self.name = name\n",
    "        self.breed = breed\n",
    "        Dog.number_of_dogs += 1\n",
    "        \n",
    "    def __del__(self):\n",
    "        Dog.number_of_dogs -= 1\n",
    "            \n",
    "    def bark(self):  # instance안에 있는 변수를 사용하면 instance함수로 사용\n",
    "        return '왈! 왈!'\n",
    "    \n",
    "    @classmethod\n",
    "    def get_status(cls):\n",
    "        return f'총 {cls.number_of_dogs}마리의 강아지가 있습니다 :)' \n",
    "# 설계할 때 내부적으로 class 가 가지고 있는 변수(number_of_dogs)들에 접근을 하고, 사용하는 함수를 만든다. ->  classmethod로 만들어라\n",
    "    \n",
    "    @staticmethod   # class변수나 instance변수에 의존하지 않음 (사용하지 않음) -> staticmethod로 만들어라!\n",
    "    def info():\n",
    "        return '이것은 개입니다!'"
   ]
  },
  {
   "cell_type": "code",
   "execution_count": null,
   "metadata": {},
   "outputs": [],
   "source": [
    "d = Dog('초코', '푸들')\n",
    "\n",
    "d.bark()"
   ]
  },
  {
   "cell_type": "code",
   "execution_count": null,
   "metadata": {},
   "outputs": [],
   "source": [
    "print(d.info(), Dog.info())  # class는 class 변수(number_of_dogs)에 접근함.\n",
    "# instance variable은 제 이름은 --입니다처럼 instance.name이라고 접근 가능.\n",
    "#staticmethod는 class나 instance로 연관되어있는 것이 없음(class와 instace 것들을 사용하지 않음)"
   ]
  },
  {
   "cell_type": "markdown",
   "metadata": {},
   "source": [
    "## 실습 - 스태틱(정적) 메서드\n",
    "\n",
    "> 계산기 class인 `Calculator`를 만들어봅시다.\n",
    "\n",
    "* 다음과 같이 정적 메서드를 구성한다. \n",
    "* 모든 정적 메서드는, 두 수를 받아서 각각의 연산을 한 결과를 리턴한다.\n",
    "* `a` 연산자 `b` 의 순서로 연산한다. (`a - b`, `a / b`)\n",
    "    1. `add(a, b)` : 덧셈\n",
    "    2. `sub(a, b)` : 뺄셈 \n",
    "    3. `mul(a, b)` : 곱셈\n",
    "    4. `div(a, b)` : 나눗셈"
   ]
  },
  {
   "cell_type": "code",
   "execution_count": null,
   "metadata": {},
   "outputs": [],
   "source": [
    "# 아래에 코드를 작성해주세요.\n",
    "class Calculator:\n",
    "    @staticmethod  # 이 문장을 적은 이유는 내부적으로 class, instance(속성) 사용안함 -> @staticmethod라고 정의해야함  -> just 구분한다!!!\n",
    "    def add(a, b):\n",
    "        return a + b\n",
    "    \n",
    "    @staticmethod    \n",
    "    def sub(a, b):\n",
    "        return a - b\n",
    "    \n",
    "    @staticmethod    \n",
    "    def mul(a, b):\n",
    "        return a * b\n",
    "    \n",
    "    @staticmethod\n",
    "    def div(a, b):\n",
    "        if b != 0:\n",
    "            return a / b\n",
    "        else:\n",
    "            return f'{b}로 나눌 수 없습니다.'"
   ]
  },
  {
   "cell_type": "code",
   "execution_count": null,
   "metadata": {},
   "outputs": [],
   "source": [
    "# 정적 메서드를 호출해보세요.\n",
    "\n",
    "my_func = Calculator()\n",
    "my_func.div(6, 2)  # 이때는 @staticmethod 꼭 써줘야함!!"
   ]
  },
  {
   "cell_type": "code",
   "execution_count": null,
   "metadata": {},
   "outputs": [],
   "source": [
    "my_func = Calculator()\n",
    "my_func.add(1, 2)\n",
    "# 위 코드에서 @staticmethod 를 안썼다면 error뜸! why? class에 들어가서 init에서 지정해줘야하는데 그게없으니까 a, b를 지정하지 못함"
   ]
  },
  {
   "cell_type": "markdown",
   "metadata": {},
   "source": [
    "## 연산자 오버로딩(중복 정의)\n",
    "> operator overloading\n",
    "\n",
    "* 파이썬에 기본적으로 정의된 연산자를 직접적으로 정의하여 활용할 수 있습니다. \n",
    "\n",
    "* 몇 가지만 소개하고 활용해봅시다.\n",
    "\n",
    "```\n",
    "+  __add__   \n",
    "-  __sub__\n",
    "*  __mul__\n",
    "<  __lt__\n",
    "<= __le__\n",
    "== __eq__\n",
    "!= __ne__\n",
    ">= __ge__\n",
    ">  __gt__\n",
    "```"
   ]
  },
  {
   "cell_type": "code",
   "execution_count": null,
   "metadata": {},
   "outputs": [],
   "source": [
    "# 사람과 사람을 같은지 비교하면, 이는 나이가 같은지 비교한 결과를 반환하도록 만들어봅시다."
   ]
  },
  {
   "cell_type": "code",
   "execution_count": null,
   "metadata": {},
   "outputs": [],
   "source": [
    "class Person:\n",
    "    def __init__(self, name, age):\n",
    "        self.name = name\n",
    "        self.age = age\n",
    "        \n",
    "    def __repr__(self):\n",
    "        return f'name: {self.name}, age: {self.age}'\n",
    "    \n",
    "    def __gt__(self, other):\n",
    "        if self.age > other.age:\n",
    "            return True\n",
    "        else:\n",
    "            return False\n",
    "        \n",
    "    def __lt__(self, other):\n",
    "        if self.age < other.age:\n",
    "            return True\n",
    "        else:\n",
    "            return False"
   ]
  },
  {
   "cell_type": "code",
   "execution_count": null,
   "metadata": {},
   "outputs": [],
   "source": [
    "old_man = Person('노인', 100) # 각각의 instance\n",
    "young_man = Person('청년', 40)"
   ]
  },
  {
   "cell_type": "code",
   "execution_count": null,
   "metadata": {},
   "outputs": [],
   "source": [
    "young_man > old_man  # __gt__함수 없이는 비교할 수 없음"
   ]
  },
  {
   "cell_type": "markdown",
   "metadata": {},
   "source": [
    "# 상속 \n",
    "\n",
    "## 기초\n",
    "\n",
    "* 클래스에서 가장 큰 특징은 '상속' 기능을 가지고 있다는 것입니다. \n",
    "\n",
    "* 부모 클래스의 모든 속성이 자식 클래스에게 상속 되므로 코드 재사용성이 높아집니다.\n",
    "\n",
    "```python\n",
    "class DerivedClassName(BaseClassName):\n",
    "    code block\n",
    "```"
   ]
  },
  {
   "cell_type": "code",
   "execution_count": null,
   "metadata": {},
   "outputs": [],
   "source": [
    "# 인사만 할 수 있는 간단한 Person 클래스를 만들어봅시다.\n",
    "\n",
    "class Person:\n",
    "    population = 0\n",
    "    \n",
    "    def __init__(self, name='사람'):\n",
    "        self.name = name\n",
    "        Person.population += 1\n",
    "        \n",
    "    def greeting(self):\n",
    "        print(f'반갑습니다, {self.name}입니다.')\n",
    "        "
   ]
  },
  {
   "cell_type": "code",
   "execution_count": null,
   "metadata": {},
   "outputs": [],
   "source": [
    "person = Person()\n",
    "person.greeting()"
   ]
  },
  {
   "cell_type": "code",
   "execution_count": null,
   "metadata": {},
   "outputs": [],
   "source": [
    "# Person 클래스를 상속받아 Student 클래스를 만들어봅시다.\n",
    "\n",
    "class Student(Person):\n",
    "    def study(self):            # init을 별도로 쓰지 않아도, 위에있던 init을 가지고온다.(밑에 작성했다면 그것은 덮어쓰는 것이다!)\n",
    "        print(f'공부')\n",
    "        \n",
    "    def __init__(self, student_id, name='학생'):  # default값이 설정되어있는 변수를 맨 뒤로!!!!\n",
    "        self.name = name\n",
    "        self.student_id = student_id\n",
    "        Person.population += 1   "
   ]
  },
  {
   "cell_type": "code",
   "execution_count": null,
   "metadata": {},
   "outputs": [],
   "source": [
    "# 학생을 만들어 봅시다."
   ]
  },
  {
   "cell_type": "code",
   "execution_count": null,
   "metadata": {},
   "outputs": [],
   "source": [
    "stu = Student()\n",
    "stu.name"
   ]
  },
  {
   "cell_type": "code",
   "execution_count": null,
   "metadata": {},
   "outputs": [],
   "source": [
    "stu.student_id"
   ]
  },
  {
   "cell_type": "code",
   "execution_count": null,
   "metadata": {},
   "outputs": [],
   "source": [
    "# 부모 클래스에 정의된 매서드를 호출할 수 있습니다.\n",
    "\n",
    "stu.greeting()\n",
    "stu.population"
   ]
  },
  {
   "cell_type": "markdown",
   "metadata": {},
   "source": [
    "## super()\n",
    "\n",
    "* 자식 클래스에 메서드를 추가로 구현할 수 있습니다.\n",
    "\n",
    "* 부모 클래스의 내용을 사용하고자 할 때, `super()`를 사용할 수 있습니다.\n",
    "\n",
    "```python\n",
    "class BabyClass(ParentClass):\n",
    "    def method(self, arg):\n",
    "        super().method(arg) \n",
    "```"
   ]
  },
  {
   "cell_type": "code",
   "execution_count": null,
   "metadata": {},
   "outputs": [],
   "source": [
    "# 예시를 확인해 봅시다.\n",
    "\n",
    "class Person:\n",
    "    def __init__(self, name, age, number, email):\n",
    "        self.name = name\n",
    "        self.age = age\n",
    "        self.number = number\n",
    "        self.email = email\n",
    "        \n",
    "    def greeting(self):\n",
    "        print(f'반갑습니다. {self.name}입니다.')\n",
    "        \n",
    "    \n",
    "class Student(Person):\n",
    "    def __init__(self, name, age, number, email, student_id):\n",
    "        self.name = name\n",
    "        self.age = age\n",
    "        self.number = number\n",
    "        self.email = email\n",
    "        self.student_id = student_id\n",
    "        \n",
    "p1 = Person('홍길동', 200, '01012312312', 'hong@gil.dong')\n",
    "s1 = Student('학생', 20, '01012341234', 'student@naver.com', '201511722')"
   ]
  },
  {
   "cell_type": "code",
   "execution_count": null,
   "metadata": {},
   "outputs": [],
   "source": [
    "p1.greeting()\n",
    "s1.greeting()"
   ]
  },
  {
   "cell_type": "markdown",
   "metadata": {},
   "source": [
    "* 위의 코드를 보면, 상속을 했음에도 불구하고 동일한 코드가 반복됩니다. "
   ]
  },
  {
   "cell_type": "code",
   "execution_count": null,
   "metadata": {},
   "outputs": [],
   "source": [
    "# 이를 수정해봅시다.\n",
    "\n",
    "class Person:\n",
    "    def __init__(self, name, age, number, email):\n",
    "        self.name = name\n",
    "        self.age = age\n",
    "        self.number = number\n",
    "        self.email = email\n",
    "        \n",
    "    def greeting(self):\n",
    "        print(f'반갑습니다. {self.name}입니다.')\n",
    "        \n",
    "\n",
    "class Student(Person):\n",
    "    def __init__(self, name, age, number, email, student_id):  # 만약 number를 안받고싶어도 number넣어서 가지고와야함!\n",
    "                                                               # 상속받는 것에 num이 없다면 Person에서 num을 없애줘야함.\n",
    "        super().__init__(name, age, number, email)  # 호출   # self는 자동으로 채워진다.\n",
    "        self.student_id = student_id\n",
    "        \n",
    "p1 = Person('홍길동', 200, '01012312312', 'hong@gil.dong')\n",
    "s1 = Student('학생', 20, '01012341234', 'student@naver.com', '201511722')\n",
    "\n",
    "\n",
    "p1.greeting()\n",
    "s1.greeting()"
   ]
  },
  {
   "cell_type": "markdown",
   "metadata": {},
   "source": [
    "## 메서드 오버라이딩(재정의)\n",
    "> method overriding\n",
    "\n",
    "* 메서드를 재정의할 수도 있습니다.\n",
    "* 상속 받은 클래스에서 메서드를 덮어씁니다."
   ]
  },
  {
   "cell_type": "markdown",
   "metadata": {},
   "source": [
    "##  상속관계에서의 이름공간\n",
    "\n",
    "> 사실 사람은 포유류입니다. \n",
    ">\n",
    "> Animal Class를 만들고, Person클래스가 상속받도록 구성해봅시다.\n",
    ">\n",
    "> 변수나, 메서드는 자유롭게 만들어봅시다."
   ]
  },
  {
   "cell_type": "code",
   "execution_count": null,
   "metadata": {},
   "outputs": [],
   "source": [
    "# Person 클래스의 상속을 받아 군인처럼 인사하는 Soldier 클래스를 만들어봅시다.\n",
    "\n",
    "class Soldier(Person):\n",
    "    def __init__(self, name, age, number, email, army):\n",
    "        super().__init__(name, age, number, email)\n",
    "        self.army = army\n",
    "        \n",
    "    # method overridiing\n",
    "    def greeting(self):\n",
    "        super().greeting()  # 반갑습니다. 굳건이입니다.\n",
    "        print(f'충성! {self.army} {self.name}!')  # 충성! 하사 굳건이!\n",
    "        \n",
    "\n",
    "sol = Soldier('굳건이', 25, '01012345678', 'soldier@naver.com', '하사')\n",
    "\n",
    "sol.greeting()"
   ]
  },
  {
   "cell_type": "markdown",
   "metadata": {},
   "source": [
    "## 실습 1\n",
    "\n",
    "> 위에서 Person 클래스를 상속받는 Student 클래스를 만들어봤습니다.\n",
    ">\n",
    "> 이번에는 Person클래스를 상속받는 Teacher 클래스를 만들어보고 Student와 Teacher 클래스에 각각 다른 행동의 메서드들을 하나씩 추가해봅시다."
   ]
  },
  {
   "cell_type": "code",
   "execution_count": null,
   "metadata": {},
   "outputs": [],
   "source": [
    "# 아래에 코드를 작성해주세요.\n",
    "\n",
    "class Person:\n",
    "    def __init__(self, name, age, number, email):\n",
    "        self.name = name\n",
    "        self.age = age\n",
    "        self.number = number\n",
    "        self.email = email\n",
    "        \n",
    "    def greeting(self):\n",
    "        print(f'반갑습니다. {self.name}입니다.')\n",
    "\n",
    "        \n",
    "class Student(Person):\n",
    "    def __init__(self, name, age, number, email, student_id):\n",
    "        super().__init__(name, age, number, email, student_id)\n",
    "        self.student_id = student_id\n",
    "        \n",
    "        \n",
    "    def study(self, subject, hours):\n",
    "        print(f'{subject}fmf {hours}동안 공부했다.')\n",
    "        \n",
    "        \n",
    "class Teacher(Person):\n",
    "    def __init__(self, name, age, number, email, classroom_num):\n",
    "        super().__init__(name, age, number, email, classroom_num)\n",
    "        self.classroom_num = classroom_num\n",
    "        \n",
    "    def teach(self, subject):\n",
    "        print(f'{self.name} 선생님은 {subject}를 가르칩니다.')\n",
    "        \n",
    "        \n",
    "student = Student('학생', 20, '010', 's@s', 123)\n",
    "teacher = Teacher('선생님', 50, '011', 't@t', 1)\n",
    "\n",
    "student.study('python', 1)\n",
    "teacher.teach('Database')\n",
    "    "
   ]
  },
  {
   "cell_type": "markdown",
   "metadata": {},
   "source": [
    "## 실습 2\n",
    "\n",
    "> 사실 사람은 포유류입니다. \n",
    ">\n",
    "> Animal Class를 만들고, Person클래스가 상속받도록 구성해봅시다.\n",
    ">\n",
    "> 변수나, 메서드는 자유롭게 만들어봅시다."
   ]
  },
  {
   "cell_type": "code",
   "execution_count": null,
   "metadata": {},
   "outputs": [],
   "source": [
    "# 아래에 코드를 작성해주세요.\n",
    "\n",
    "class Animal:\n",
    "    def __init__(self, life=True):\n",
    "        self.life = life\n",
    "        \n",
    "    def eat(self):\n",
    "        if self.life:\n",
    "            print('쩝쩝')\n",
    "    \n",
    "class Person(Animal):\n",
    "    def __init__(self, name, life=True):\n",
    "        super().__init__(life)\n",
    "        self.name = name\n",
    "        \n",
    "    def eat(self):\n",
    "        if self.life:\n",
    "            print('냠냠')\n",
    "            \n",
    "\n",
    "animal = Animal(True)\n",
    "animal.eat()\n",
    "animal.life = False\n",
    "animal.eat()\n",
    "\n",
    "person = Person('jason', True)"
   ]
  },
  {
   "cell_type": "markdown",
   "metadata": {},
   "source": [
    "## 다중 상속\n",
    "두개 이상의 클래스를 상속받는 경우, 다중 상속이 됩니다."
   ]
  },
  {
   "cell_type": "code",
   "execution_count": null,
   "metadata": {},
   "outputs": [],
   "source": [
    "# Person 클래스를 정의합니다.\n",
    "\n",
    "class Person:\n",
    "    def __init__(self, name):\n",
    "        self.name = name\n",
    "        \n",
    "    def breath(self):\n",
    "        return '날숨'\n",
    "    \n",
    "    def greeting(self):\n",
    "        return f'hi, {self.name}'"
   ]
  },
  {
   "cell_type": "code",
   "execution_count": null,
   "metadata": {},
   "outputs": [],
   "source": [
    "# Mom 클래스를 정의합니다.\n",
    "\n",
    "class Mom(Person):\n",
    "    gene = 'XX'\n",
    "    \n",
    "    def swim(self):\n",
    "        return '첨벙첨벙'"
   ]
  },
  {
   "cell_type": "code",
   "execution_count": null,
   "metadata": {},
   "outputs": [],
   "source": [
    "# Dad 클래스를 정의합니다.\n",
    "\n",
    "class Dad(Person):\n",
    "    gene = 'XY'\n",
    "    \n",
    "    def walk(self):\n",
    "        return '성큼성큼'"
   ]
  },
  {
   "cell_type": "code",
   "execution_count": null,
   "metadata": {},
   "outputs": [],
   "source": [
    "# FirstChild 클래스를 정의합니다.\n",
    "\n",
    "class FirstChild(Dad, Mom):  # 상속의 순서가 중요! 왼쪽부터 오른쪽!!!\n",
    "    def swim(self):  #Mom의 swim method를 overriding\n",
    "        return '챱챱'\n",
    "\n",
    "    def cry(self):  # FirshChild만이 가지는 인스턴스 매서드입니다.\n",
    "        return '응애'"
   ]
  },
  {
   "cell_type": "code",
   "execution_count": null,
   "metadata": {},
   "outputs": [],
   "source": [
    "baby = FirstChild('아가')\n",
    "baby.cry()   # FirstChild만의 메서드를 호출"
   ]
  },
  {
   "cell_type": "code",
   "execution_count": null,
   "metadata": {},
   "outputs": [],
   "source": [
    "baby.swim()  # override된 FirstChild의 swim을 호출"
   ]
  },
  {
   "cell_type": "code",
   "execution_count": null,
   "metadata": {},
   "outputs": [],
   "source": [
    "baby.walk()  # Dad의 walk를 호출"
   ]
  },
  {
   "cell_type": "code",
   "execution_count": null,
   "metadata": {},
   "outputs": [],
   "source": [
    "baby.gene  # 아빠를 먼저 상속했으므로!  \n",
    "# gene은 함수가 아니라 () 쓰지 않음"
   ]
  },
  {
   "cell_type": "markdown",
   "metadata": {},
   "source": [
    "## 포켓몬 구현하기2\n",
    "\n",
    "> 포켓몬을 상속하는 이상해씨, 파이리, 꼬부기를 구현해 봅시다. 게임을 만든다면 아래와 같이 먼저 기획을 하고 코드로 구현하게 됩니다.\n",
    "우선 아래와 같이 구현해 보고, 추가로 본인이 원하는 대로 구현 및 수정해 봅시다.\n",
    "\n",
    "모든 포켓몬은 다음과 같은 속성을 갖습니다.\n",
    "* `name`: 이름\n",
    "* `level`: 레벨\n",
    "    * 레벨은 시작할 때 모두 5 입니다.\n",
    "* `hp`: 체력\n",
    "    * 체력은 `level` * 20 입니다.\n",
    "* `exp`: 경험치\n",
    "    * 상대방을 쓰러뜨리면 상대방 `level` * 15 를 획득합니다.\n",
    "    * 경험치는 `level` * 100 이 되면, 레벨이 하나 올라가고 0부터 추가 됩니다. \n",
    "\n",
    "이후 이상해씨, 파이리, 꼬부기는 포켓몬을 상속하여 자유롭게 구현해 봅시다.\n",
    "\n",
    "추가적으로 \n",
    "\n",
    "* 포켓몬 => 물포켓몬 => 꼬부기 \n",
    "* 포켓몬 => 물포켓몬 => 잉어킹\n",
    "* 포켓몬 => 비행포켓몬, 불포켓몬 => 파이어\n",
    "\n",
    "와 같이 다양한 추가 상속관계도 구현해 봅시다."
   ]
  },
  {
   "cell_type": "code",
   "execution_count": null,
   "metadata": {},
   "outputs": [],
   "source": [
    "import random\n",
    "\n",
    "# 아래에 코드를 작성해주세요.\n",
    "class Poketmon:\n",
    "    \n",
    "    def __init__(self, name=\"피카츄\" ):\n",
    "        self.name = name\n",
    "        self.level = 5\n",
    "        self.hp = self.level * 20\n",
    "        self.exp = 0\n",
    "        self.hp_item = 3\n",
    "        \n",
    "    \n",
    "    def bark(self):\n",
    "        print('{self.name}')\n",
    "        print('효과는 미미했다...')\n",
    "        \n",
    "    \n",
    "    def body_attack(self, target):\n",
    "        damage = self.level * 5\n",
    "        target.hp -= damage\n",
    "        print(f'{target.name}에게 {damage} 만큼의 피해를 입혔다.')\n",
    "        self.check_battle(target)\n",
    "\n",
    "        \n",
    "    def thousand_volt(self, target):\n",
    "        damage = self.level * 7\n",
    "        target.hp -= damage\n",
    "        print(f'{target.name}에게 {damage} 만큼의 피해를 입혔다.')\n",
    "        self.check_battle(target)\n",
    "        \n",
    "\n",
    "    def check_battle(self, target):\n",
    "        if target.hp <= 0:\n",
    "            print(f'{target.name}이(가) 쓰러졌습니다!')\n",
    "            self.exp += target.level * 15\n",
    "            \n",
    "            if self.exp >= self.level * 100:\n",
    "                self.exp -= self.levcel * 100\n",
    "                self.level += 1\n",
    "                self.hp = self.level * 20\n",
    "                self.hp_item += 1\n",
    "                print(f'레벨업을 하여 {self.level} 이 되었고, 현재 경험치는 {self.exp} 입니다!')\n",
    "                \n",
    "                \n",
    "    def battle(self, target):\n",
    "        count = 0\n",
    "        while self.hp >= 0 and target.hp >= 0:\n",
    "            print(f'#### 라운드 {count} ####')\n",
    "            print(f'{self.name}의 체력 : {self.hp}')\n",
    "            print(f'{target.name}의 체력 : {target.hp}')\n",
    "            print('-----------------------------------')\n",
    "            \n",
    "            attacker = random.choice([self, target])\n",
    "            defencer = target if attacker == self else self\n",
    "        \n",
    "            skill_number = random.randint(0, 2)\n",
    "            \n",
    "            if skill_number == 0:\n",
    "                attacker.bark()\n",
    "            elif skill_number == 1:\n",
    "                attacker.body_attack(defencer)\n",
    "            else:\n",
    "                attacker.thousand_volt(defencer)\n",
    "            \n",
    "            count += 1\n",
    "            print('\\n')\n",
    "        \n",
    "        self.hp = self.level * 20\n",
    "        target.hp = target.level * 20\n",
    "      "
   ]
  },
  {
   "cell_type": "code",
   "execution_count": null,
   "metadata": {},
   "outputs": [],
   "source": [
    "class Kobugi(Poketmon):\n",
    "    def water_attack(self, target):\n",
    "        damage = self.level * 6\n",
    "        target.hp -= damage\n",
    "        print(f'{target.name}에게 {damage} 만큼의 피해를 입혔다.')\n",
    "        self.check_battle(target)\n",
    "        \n",
    "        \n",
    "class Ingaking(Poketmon):\n",
    "    def water_attack(self, target):\n",
    "        damage = self.level * 6\n",
    "        target.hp -= damage\n",
    "        print(f'{target.name}에게 {damage} 만큼의 피해를 입혔다.')\n",
    "        self.check_battle(target)\n",
    "    \n",
    "    \n",
    "class Piri(Poketmon):\n",
    "    def fly_attack(self, target):\n",
    "        damage = self.level * 9\n",
    "        target.hp -= damage\n",
    "        print(f'날았다! {target.name}에게 쏜다! {damage} 만큼의 피해를 입혔다.')\n",
    "        self.check_battle(target)\n",
    "    \n",
    "    \n",
    "    def fire_attack(self, target):\n",
    "        damage = self.level * 5\n",
    "        target.hp -= damage\n",
    "        print(f'{target.name}에게 {damage} 만큼의 피해를 입혔다.')\n",
    "        self.check_battle(target)"
   ]
  },
  {
   "cell_type": "code",
   "execution_count": null,
   "metadata": {},
   "outputs": [],
   "source": [
    "p1 = Kobugi('꼬부기')\n",
    "p2 = Ingaking('잉어킹')\n",
    "p3 = Piri('파이리')"
   ]
  },
  {
   "cell_type": "code",
   "execution_count": null,
   "metadata": {},
   "outputs": [],
   "source": [
    "p3.fire_attack(p2)\n",
    "p2.water_attack(p1)\n",
    "p1.body_attack(p3)"
   ]
  },
  {
   "cell_type": "code",
   "execution_count": null,
   "metadata": {},
   "outputs": [],
   "source": [
    "# 선생님 코드\n",
    "class WaterPoketmon(Poketmon):\n",
    "    property = 'water'\n",
    "    \n",
    "    def __init__(self, name=\"피카츄\" ):\n",
    "        self.name = name\n",
    "        self.level = 5\n",
    "        self.hp = self.level * 20\n",
    "        self.exp = 0\n",
    "        self.hp_item = 3\n",
    "        \n",
    "    \n",
    "    def bark(self):\n",
    "        print('{self.name}')\n",
    "        print('효과는 미미했다...')\n",
    "        \n",
    "    \n",
    "    def body_attack(self, target):\n",
    "        damage = self.level * 5\n",
    "        target.hp -= damage\n",
    "        print(f'{target.name}에게 {damage} 만큼의 피해를 입혔다.')\n",
    "        self.check_battle(target)\n",
    "\n",
    "        \n",
    "    def thousand_volt(self, target):\n",
    "        damage = self.level * 7\n",
    "        target.hp -= damage\n",
    "        print(f'{target.name}에게 {damage} 만큼의 피해를 입혔다.')\n",
    "        self.check_battle(target)\n",
    "        \n",
    "\n",
    "    def check_battle(self, target):\n",
    "        if target.hp <= 0:\n",
    "            print(f'{target.name}이(가) 쓰러졌습니다!')\n",
    "            self.exp += target.level * 15\n",
    "            \n",
    "            if self.exp >= self.level * 100:\n",
    "                self.exp -= self.levcel * 100\n",
    "                self.level += 1\n",
    "                self.hp = self.level * 20\n",
    "                self.hp_item += 1\n",
    "                print(f'레벨업을 하여 {self.level} 이 되었고, 현재 경험치는 {self.exp} 입니다!')\n",
    "                \n",
    "                \n",
    "    def battle(self, target):\n",
    "        count = 0\n",
    "        while self.hp >= 0 and target.hp >= 0:\n",
    "            print(f'#### 라운드 {count} ####')\n",
    "            print(f'{self.name}의 체력 : {self.hp}')\n",
    "            print(f'{target.name}의 체력 : {target.hp}')\n",
    "            print('-----------------------------------')\n",
    "            \n",
    "            attacker = random.choice([self, target])\n",
    "            defencer = target if attacker == self else self\n",
    "        \n",
    "            skill_number = random.randint(0, 2)\n",
    "            \n",
    "            if skill_number == 0:\n",
    "                attacker.bark()\n",
    "            elif skill_number == 1:\n",
    "                attacker.body_attack(defencer)\n",
    "            else:\n",
    "                attacker.thousand_volt(defencer)\n",
    "            \n",
    "            count += 1\n",
    "            print('\\n')\n",
    "        \n",
    "        self.hp = self.level * 20\n",
    "        target.hp = target.level * 20"
   ]
  },
  {
   "cell_type": "code",
   "execution_count": null,
   "metadata": {},
   "outputs": [],
   "source": [
    "def greeting(me='Jason', *people): \n",
    "    print(f'{me}가 인사한다! 안녕 {people}')\n",
    "   # greeting('Jason', 'Spiderman', 'Alice')가능! Jason이 맨 처음 나오고 뒤에 사람들 이름 나오면 ok!\n",
    "\n",
    "greeting('Spiderman', 'Jason', 'Alice')  # 이렇게하면 Spiderman가 인사한다! 안녕 ('Jason', 'Alice') 이라고 나옴"
   ]
  }
 ],
 "metadata": {
  "kernelspec": {
   "display_name": "Python 3",
   "language": "python",
   "name": "python3"
  },
  "language_info": {
   "codemirror_mode": {
    "name": "ipython",
    "version": 3
   },
   "file_extension": ".py",
   "mimetype": "text/x-python",
   "name": "python",
   "nbconvert_exporter": "python",
   "pygments_lexer": "ipython3",
   "version": "3.7.4"
  },
  "latex_envs": {
   "LaTeX_envs_menu_present": true,
   "autoclose": false,
   "autocomplete": true,
   "bibliofile": "biblio.bib",
   "cite_by": "apalike",
   "current_citInitial": 1,
   "eqLabelWithNumbers": true,
   "eqNumInitial": 1,
   "hotkeys": {
    "equation": "Ctrl-E",
    "itemize": "Ctrl-I"
   },
   "labels_anchors": false,
   "latex_user_defs": false,
   "report_style_numbering": false,
   "user_envs_cfg": false
  },
  "toc": {
   "base_numbering": 1,
   "nav_menu": {},
   "number_sections": true,
   "sideBar": true,
   "skip_h1_title": false,
   "title_cell": "Table of Contents",
   "title_sidebar": "Contents",
   "toc_cell": false,
   "toc_position": {
    "height": "calc(100% - 180px)",
    "left": "10px",
    "top": "150px",
    "width": "165px"
   },
   "toc_section_display": true,
   "toc_window_display": false
  }
 },
 "nbformat": 4,
 "nbformat_minor": 2
}
